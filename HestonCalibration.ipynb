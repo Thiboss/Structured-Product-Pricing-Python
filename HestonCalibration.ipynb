{
 "cells": [
  {
   "cell_type": "markdown",
   "metadata": {},
   "source": [
    "## Heston Calibration"
   ]
  },
  {
   "cell_type": "code",
   "execution_count": null,
   "metadata": {},
   "outputs": [],
   "source": [
    "import pandas as pd\n",
    "import numpy as np\n",
    "from numba import jit, njit, prange \n",
    "from numba import cuda\n",
    "from scipy.optimize import minimize\n",
    "from kernel.market_data.market import Market\n",
    "from plotly import graph_objects as go\n",
    "from typing import Optional, Union\n",
    "from collections.abc import Sequence"
   ]
  },
  {
   "cell_type": "code",
   "execution_count": null,
   "metadata": {},
   "outputs": [],
   "source": [
    "from kernel.tools import CalendarConvention, ObservationFrequency, Model\n",
    "from kernel.market_data import InterpolationType, VolatilitySurfaceType, Market, RateCurveType\n",
    "from data.option_data import *"
   ]
  },
  {
   "cell_type": "markdown",
   "metadata": {},
   "source": [
    "# 1. Contexte du Modèle Heston\n",
    "\n",
    "Dans le modèle de Heston, la variance $v_t$ du sous-jacent évolue stochastiquement selon la dynamique suivante :\n",
    "\n",
    "- **$\\kappa$** : vitesse de réversion vers la moyenne,\n",
    "- **$\\theta$** : niveau moyen de variance à long terme,\n",
    "- **$\\sigma$** : volatilité de la variance (souvent appelée *vol-of-vol*),\n",
    "- **$\\rho$** : corrélation entre le mouvement du prix du sous-jacent et celui de sa variance,\n",
    "- **$v_0$** : variance initiale.\n",
    "\n",
    "\n",
    "La formule semi-analytique du call européen dans le modèle Heston se présente souvent sous la forme :\n",
    "\n",
    "$$\n",
    "C(S_t, K, T) = S_t \\, P_1 \\;-\\; K\\, e^{-rT}\\, P_2,\n",
    "$$\n",
    "\n",
    "où les termes $P_1$ et $P_2$ (parfois notés aussi $\\mathbb{Q}^1$ et $\\mathbb{Q}^2$) se calculent à l’aide d’intégrales faisant intervenir la fonction caractéristique de la log-densité du sous-jacent sous deux mesures risques neutres distinctes.  \n",
    "Explicitement :\n",
    "\n",
    "$$\n",
    "P_j \\;=\\; \\frac{1}{2} \\;+\\; \\frac{1}{\\pi}\\int_{0}^{+\\infty} \\Re\\!\\left(\\frac{e^{-i\\,s\\,\\ln K}\\, f_j(s)}{i\\,s}\\right)\\, ds,\\quad j=1,2.\n",
    "$$\n",
    "\n",
    "---\n",
    "\n",
    "# 2. Construction de la Fonction Caractéristique\n",
    "\n",
    "Le point crucial de la méthode réside dans la construction d’une **fonction caractéristique complexe** adaptée au modèle Heston.\n",
    "\n",
    "## 2.1. Définition générale de $f_j(s)$\n",
    "\n",
    "Chaque intégrale fait intervenir une fonction $f_j$. On peut écrire (pour $j=1,2$) :\n",
    "\n",
    "$$\n",
    "f_j(s) \\;=\\; \\exp\\Bigl( C_j(s) \\;+\\; D_j(s)\\,v_0 \\;+\\; i\\,s\\,x \\Bigr),\n",
    "$$\n",
    "\n",
    "où $x = \\ln S_t$. Les fonctions $C_j$ et $D_j$ dépendent des paramètres $\\kappa$, $\\theta$, $\\sigma$, $\\rho$ et de la mesure choisie (d'où l'indice $j$).\n",
    "\n",
    "### 2.1.1. Paramètres auxiliaires\n",
    "\n",
    "Pour distinguer les deux intégrales (liées à $P_1$ et $P_2$), on introduit parfois des coefficients tels que :\n",
    "\n",
    "- $u_1 = 0.5,\\quad u_2 = -0.5,$\n",
    "- $b_1 = \\kappa \\;-\\; \\rho\\,\\sigma\\,i\\,s ,\\quad b_2 = \\kappa,$\n",
    "  \n",
    "On définit alors :\n",
    "\n",
    "$$\n",
    "d_j \\;=\\; \\sqrt{\\left(\\rho\\,\\sigma\\,i\\,s - b_j\\right)^{2} \\;+\\; \\sigma^2\\,\\left(s^2 + i\\,s\\,(2\\,u_j)\\right)},\n",
    "$$\n",
    "\n",
    "et\n",
    "\n",
    "$$\n",
    "g_j \\;=\\; \\frac{b_j \\;-\\; \\rho\\,\\sigma\\,i\\,s - d_j}{b_j \\;-\\; \\rho\\,\\sigma\\,i\\,s + d_j}.\n",
    "$$\n",
    "\n",
    "### 2.1.2. Fonctions $C_j$ et $D_j$\n",
    "\n",
    "On peut alors exprimer :\n",
    "\n",
    "$$\n",
    "C_j(s) \\;=\\; r\\,i\\,s\\,T \\;+\\; \\frac{\\kappa\\,\\theta}{\\sigma^2}\\,\\Biggl[\\left(b_j - \\rho\\,\\sigma\\,i\\,s\\right)T \\;-\\; 2\\,\\ln\\!\\left(\\frac{1 - g_j\\,e^{-d_j\\,T}}{1 - g_j}\\right)\\Biggr],\n",
    "$$\n",
    "\n",
    "et\n",
    "\n",
    "$$\n",
    "D_j(s) \\;=\\; \\frac{b_j - \\rho\\,\\sigma\\,i\\,s + d_j}{\\sigma^2}\\,\\left(\\frac{1 - e^{-d_j\\,T}}{1 - g_j\\,e^{-d_j\\,T}}\\right).\n",
    "$$\n",
    "\n",
    "La fonction caractéristique s'obtient finalement par :\n",
    "\n",
    "$$\n",
    "f_j(s) \\;=\\; \\exp\\!\\Bigl( C_j(s) + D_j(s)\\,v_0 + i\\,s\\,x\\Bigr).\n",
    "$$\n",
    "\n",
    "---\n",
    "\n",
    "## 2.2. Version « unique » : $f_{\\text{Heston}}(s)$\n",
    "\n",
    "Plutôt que de séparer en deux fonctions $f_1(s)$ et $f_2(s)$, il est possible de regrouper les effets dans une **unique** fonction caractéristique en procédant comme suit :\n",
    "\n",
    "1. **Calcul du paramètre $d$** :\n",
    "\n",
    "   $$\n",
    "   d \\;=\\; \\sqrt{ \\left( \\rho\\, \\sigma\\, i\\, s - \\kappa \\right)^2 + \\sigma^2 \\left(i\\, s + s^2\\right) }.\n",
    "   $$\n",
    "\n",
    "2. **Définition du paramètre $g$** :\n",
    "\n",
    "   $$\n",
    "   g \\;=\\; \\frac{\\kappa - \\rho\\, \\sigma\\, i\\, s + d}{\\kappa - \\rho\\, \\sigma\\, i\\, s - d}.\n",
    "   $$\n",
    "\n",
    "3. **Construction de la fonction caractéristique** en deux parties exponentielles :\n",
    "\n",
    "   - Le premier terme :\n",
    "\n",
    "     $$\n",
    "     \\text{Exp}_1 \\;=\\; \\exp\\!\\Bigl(i\\, s \\,(\\ln S_t + r\\,T)\\Bigr)\\,\\left(\\frac{1 - g\\,e^{-d\\,T}}{1 - g}\\right)^{-\\frac{2\\,\\theta\\,\\kappa}{\\sigma^2}}.\n",
    "     $$\n",
    "\n",
    "   - Le second terme :\n",
    "\n",
    "     Avant de le formuler, on définit :\n",
    "\n",
    "     $$\n",
    "     g_1 \\;=\\; \\kappa - \\rho\\, \\sigma\\, i\\, s - d.\n",
    "     $$\n",
    "\n",
    "     Puis,\n",
    "\n",
    "     $$\n",
    "     \\text{Exp}_2 \\;=\\; \\exp\\!\\left(\\frac{\\theta\\,\\kappa\\,T}{\\sigma^2}\\, g_1 \\;+\\; \\frac{v_0}{\\sigma^2}\\,g_1\\,\\frac{1 - e^{-d\\,T}}{1 - g\\,e^{-d\\,T}}\\right).\n",
    "     $$\n",
    "\n",
    "Ainsi, la fonction caractéristique globale s'écrit :\n",
    "\n",
    "$$\n",
    "f_{\\text{Heston}}(s) \\;=\\; \\text{Exp}_1 \\times \\text{Exp}_2.\n",
    "$$\n",
    "\n",
    "---\n",
    "\n",
    "# 3. Formulation Intégrale pour le Prix de l’Option\n",
    "\n",
    "## 3.1. Expression du Prix en Version « Unique »\n",
    "\n",
    "Une fois la fonction caractéristique définie, on regroupe les contributions pour obtenir le prix de l’option par :\n",
    "\n",
    "$$\n",
    "N(s) \\;=\\; f_{\\text{Heston}}(s - i) - K \\, f_{\\text{Heston}}(s),\n",
    "$$\n",
    "\n",
    "et\n",
    "\n",
    "$$\n",
    "C(S_t,K,T) \\;=\\; \\frac{1}{2}\\left(S_t - K\\,e^{-rT}\\right) + \\frac{1}{\\pi}\\,\\int_{0}^{+\\infty} \\frac{N(s)}{e^{i\\,s\\,\\ln K}\\,i\\,s}\\, ds.\n",
    "$$\n",
    "\n",
    "## 3.2. Schéma d'Intégration Numérique\n",
    "\n",
    "Pour évaluer numériquement l’intégrale\n",
    "\n",
    "$$\n",
    "\\int_{0}^{+\\infty}\\frac{N(s)}{e^{i\\,s\\,\\ln K}\\,i\\,s}\\,ds,\n",
    "$$\n",
    "\n",
    "on procède de la manière suivante :\n",
    "\n",
    "- On tronque l’intégrale à une borne supérieure fixée par exemple $s_{\\max}=100$.\n",
    "- L'intervalle $[0,100]$ est divisé en 1000 sous-intervalles de largeur :\n",
    "\n",
    "  $$\n",
    "  \\Delta s \\;=\\; \\frac{100}{1000} \\;=\\; 0.1.\n",
    "  $$\n",
    "\n",
    "- On applique la **méthode du point médian** pour chaque sous-intervalle en posant :\n",
    "\n",
    "  $$\n",
    "  s_j \\;=\\; \\Delta s\\left(j + \\tfrac{1}{2}\\right),\\quad j=0,1,\\dots,999.\n",
    "  $$\n",
    "\n",
    "- On somme ensuite les contributions de chacun des intervalles, puis on multiplie par $\\frac{1}{\\pi}$ et enfin on ajoute le terme analytique :\n",
    "\n",
    "  $$\n",
    "  \\frac{1}{2}(S_t - K\\,e^{-rT}).\n",
    "  $$\n",
    "\n",
    "\n",
    "---\n",
    "\n",
    "# 4. Synthèse de la Démarche\n",
    "\n",
    "1. **Fonction Caractéristique :**  \n",
    "   La fonction $f_{\\text{Heston}}(s)$ est construite soit en distinguant deux composantes $f_1(s)$ et $f_2(s)$, soit en les regroupant en une unique fonction caractéristique qui intègre les effets des paramètres $\\kappa$, $\\theta$, $\\rho$, $\\sigma$ et $v_0$ via des termes exponentiels complexes.\n",
    "\n",
    "2. **Formule du Prix :**  \n",
    "   Le prix de l’option s'exprime par :\n",
    "\n",
    "   $$\n",
    "   C(S_t,K,T) = \\frac{1}{2}(S_t - K\\,e^{-rT}) + \\frac{1}{\\pi}\\int_{0}^{+\\infty} \\frac{N(s)}{e^{i\\,s\\,\\ln K}\\,i\\,s}\\,ds,\n",
    "   $$\n",
    "\n",
    "   avec\n",
    "\n",
    "   $$\n",
    "   N(s) = f_{\\text{Heston}}(s - i) - K\\,f_{\\text{Heston}}(s).\n",
    "   $$\n",
    "\n",
    "3. **Approche Numérique :**  \n",
    "   L'intégrale, initialement définie sur $[0,+\\infty)$, est tronquée à $s_{\\max}=100$ et évaluée à l’aide d’un schéma de Riemann par point médian sur 1000 intervalles.\n"
   ]
  },
  {
   "cell_type": "code",
   "execution_count": null,
   "metadata": {},
   "outputs": [],
   "source": [
    "i = complex(0, 1)\n",
    "\n",
    "def fHeston(\n",
    "    s: complex,\n",
    "    St: float,\n",
    "    K: float,\n",
    "    r: float,\n",
    "    T: float,\n",
    "    volvol: float,\n",
    "    kappa: float,\n",
    "    theta: float,\n",
    "    v0: float,\n",
    "    rho: float\n",
    ") -> complex:\n",
    "    prod = rho * volvol * i * s\n",
    "    d1 = (prod - kappa) ** 2\n",
    "    d2 = (volvol ** 2) * (i * s + s ** 2)\n",
    "    d = np.sqrt(d1 + d2)\n",
    "\n",
    "    g1 = kappa - prod - d\n",
    "    g2 = kappa - prod + d\n",
    "    g = g1 / g2\n",
    "\n",
    "    exp1 = np.exp(np.log(St) * i * s) * np.exp(i * s * r * T)\n",
    "    exp2 = 1 - g * np.exp(-d * T)\n",
    "    exp3 = 1 - g\n",
    "    mainExp1 = exp1 * np.power(exp2 / exp3, -2 * theta * kappa / (volvol ** 2))\n",
    "\n",
    "    exp4 = theta * kappa * T / (volvol ** 2)\n",
    "    exp5 = v0 / (volvol ** 2)\n",
    "    exp6 = (1 - np.exp(-d * T)) / (1 - g * np.exp(-d * T))\n",
    "    mainExp2 = np.exp(exp4 * g1 + exp5 * g1 * exp6)\n",
    "\n",
    "    return mainExp1 * mainExp2\n",
    "\n",
    "\n",
    "def priceHestonMid(\n",
    "    St: float,\n",
    "    K: float,\n",
    "    r: float,\n",
    "    T: float,\n",
    "    volvol: float,\n",
    "    kappa: float,\n",
    "    theta: float,\n",
    "    v0: float,\n",
    "    rho: float\n",
    ") -> float:\n",
    "    P = 0.0\n",
    "    iterations = 1000\n",
    "    maxNumber = 100\n",
    "    ds = maxNumber / iterations\n",
    "\n",
    "    element1 = 0.5 * (St - K * np.exp(-r * T))\n",
    "\n",
    "    for j in range(1, iterations):\n",
    "        s1 = ds * (2 * j + 1) / 2\n",
    "        s2 = s1 - i\n",
    "\n",
    "        numerator1 = fHeston(s2, St, K, r, T, volvol, kappa, theta, v0, rho)\n",
    "        numerator2 = K * fHeston(s1, St, K, r, T, volvol, kappa, theta, v0, rho)\n",
    "        denominator = np.exp(np.log(K) * i * s1) * i * s1\n",
    "\n",
    "        P += ds * (numerator1 - numerator2) / denominator\n",
    "\n",
    "    element2 = P / np.pi\n",
    "    return np.real(element1 + element2)\n",
    "\n"
   ]
  },
  {
   "cell_type": "markdown",
   "metadata": {},
   "source": [
    "####  Objectif\n",
    "Minimiser l’erreur quadratique pondérée entre les prix de marché (mid = (bid + ask)/2) et les prix donnés par le modèle de Heston, pour calibrer les paramètres `[kappa, theta, sigma, rho]`.\n",
    "\n",
    "---\n",
    "\n",
    "####  Choix des poids\n",
    "\n",
    "Les poids sont définis comme l’inverse du carré de la volatilité implicite :\n",
    "\n",
    "$$\n",
    "w_i = \\frac{1}{\\sigma_{\\text{imp},i}^2} \\Bigg/ \\sum_{j=1}^n \\frac{1}{\\sigma_{\\text{imp},j}^2}\n",
    "$$\n",
    "\n",
    "Cela donne plus d’importance aux options faiblement volatiles (souvent plus liquides et précises), et réduit l’impact des options très excentrées ou bruitées.\n",
    "\n",
    "---\n",
    "\n",
    "####  Choix de ne pas calibrer `v₀`\n",
    "\n",
    "La variance initiale `v₀` est déduite directement de la volatilité implicite de chaque option \n"
   ]
  },
  {
   "cell_type": "code",
   "execution_count": null,
   "metadata": {},
   "outputs": [],
   "source": [
    "\n",
    "def cost_function(\n",
    "    params: Union[list, np.ndarray],\n",
    "    data: pd.DataFrame,\n",
    "    S0: float,\n",
    "    market: \"Market\",\n",
    "    weights: Optional[Union[np.ndarray, Sequence[float]]] = None\n",
    ") -> float:\n",
    "    \"\"\"\n",
    "    Least squares cost function for Heston model calibration.\n",
    "\n",
    "    Parameters\n",
    "    ----------\n",
    "    params : list or np.ndarray\n",
    "        Heston parameters [kappa, theta, sigma, rho].\n",
    "    data : pd.DataFrame\n",
    "        Market option data containing 'strike', 'time_to_maturity',\n",
    "        'bid', 'ask', and 'implied_volatility' columns.\n",
    "    S0 : float\n",
    "        Spot price of the underlying asset.\n",
    "    market : Market\n",
    "        Market object providing get_rate(T) method to retrieve the risk-free rate.\n",
    "    weights : array-like or None, optional\n",
    "        Optional weighting scheme. If None, weights are derived from implied volatility.\n",
    "\n",
    "    Returns\n",
    "    -------\n",
    "    float\n",
    "        Weighted sum of squared errors between market mid-prices and model prices.\n",
    "    \"\"\"\n",
    "    kappa, theta, sigma, rho = params\n",
    "\n",
    "    # Extract market data\n",
    "    strikes = data[\"strike\"].values\n",
    "    maturities = data[\"time_to_maturity\"].values\n",
    "    bids = data[\"bid\"].values\n",
    "    asks = data[\"ask\"].values\n",
    "    implied_vols = data[\"implied_volatility\"].values\n",
    "    v0 = implied_vols**2\n",
    "\n",
    "    # Compute mid prices\n",
    "    market_mid_prices = (bids + asks) / 2.0\n",
    "\n",
    "    # Use weights if provided, otherwise use inverse-vol squared weights\n",
    "    if weights is None:\n",
    "        weights = 1 / (implied_vols**2)\n",
    "        weights /= np.sum(weights)\n",
    "\n",
    "    # Compute model prices\n",
    "    model_prices = np.array([\n",
    "        priceHestonMid(S0, k, market.get_rate(t), t, sigma, kappa, theta, v, rho)\n",
    "        for k, t, v in zip(strikes, maturities, v0)\n",
    "    ])\n",
    "\n",
    "    # Compute weighted squared error\n",
    "    errors = market_mid_prices - model_prices\n",
    "    weighted_squared_errors = weights * errors**2\n",
    "    return np.sum(weighted_squared_errors)\n",
    "\n"
   ]
  },
  {
   "cell_type": "code",
   "execution_count": null,
   "metadata": {},
   "outputs": [],
   "source": [
    "from scipy.optimize import minimize, OptimizeResult\n",
    "import pandas as pd\n",
    "import numpy as np\n",
    "from typing import List, Tuple, Union\n",
    "\n",
    "def calibrate_heston(\n",
    "    data: pd.DataFrame,\n",
    "    S0: float,\n",
    "    market: \"Market\",\n",
    "    initial_guess: Union[List[float], np.ndarray],\n",
    "    param_bounds: List[Tuple[float, float]]\n",
    ") -> OptimizeResult:\n",
    "    \"\"\"\n",
    "    Calibrate Heston model parameters using least squares minimization.\n",
    "\n",
    "    Parameters\n",
    "    ----------\n",
    "    data : pd.DataFrame\n",
    "        Market data with required columns ('strike', 'time_to_maturity', 'bid', 'ask', 'implied_volatility').\n",
    "    S0 : float\n",
    "        Spot price of the underlying asset.\n",
    "    market : Market\n",
    "        Market object with method get_rate(T).\n",
    "    initial_guess : list or np.ndarray\n",
    "        Initial guess for [kappa, theta, sigma, rho].\n",
    "    param_bounds : list of tuples\n",
    "        Bounds for each parameter in the form [(min, max), ...].\n",
    "\n",
    "    Returns\n",
    "    -------\n",
    "    OptimizeResult\n",
    "        Optimization result from scipy.optimize.minimize.\n",
    "    \"\"\"\n",
    "    options = {\n",
    "        'disp': True,\n",
    "        'maxiter': 1000,\n",
    "        'maxfun': 1000,\n",
    "        'ftol': 1e-5,\n",
    "        'gtol': 1e-5,\n",
    "        'eps': 1e-5,\n",
    "    }\n",
    "\n",
    "    result = minimize(\n",
    "        fun=lambda x: cost_function(x, data, S0, market),\n",
    "        x0=initial_guess,\n",
    "        bounds=param_bounds,\n",
    "        method=\"L-BFGS-B\",\n",
    "        options=options\n",
    "    )\n",
    "\n",
    "    return result\n"
   ]
  },
  {
   "cell_type": "markdown",
   "metadata": {},
   "source": [
    "Données AAPL déposées sur Phit Formation "
   ]
  },
  {
   "cell_type": "code",
   "execution_count": null,
   "metadata": {},
   "outputs": [],
   "source": [
    "\n",
    "\n",
    "file_path = \"data/option_data/options_AAPL.csv\"\n",
    "df = pd.read_csv(file_path, sep=\";\")\n",
    "df['price_date'] = pd.to_datetime(df['price_date'])\n",
    "df['expiration'] = pd.to_datetime(df['expiration'])\n",
    "df['time_to_maturity'] = (df['expiration'] - df['price_date']).dt.days / 365\n"
   ]
  },
  {
   "cell_type": "markdown",
   "metadata": {},
   "source": [
    "On choisit les call ayant une volatilité raisonnable (1.3 de moneyness fixé arbitrairement)\n"
   ]
  },
  {
   "cell_type": "code",
   "execution_count": null,
   "metadata": {},
   "outputs": [],
   "source": [
    "S0 = 216.9800  \n",
    "\n",
    "df_test = df[(df['price_date'] == \"2025-03-12\")]\n",
    "\n",
    "df_test = df_test[\n",
    "    ((df_test['type'] == \"call\") & (df_test['strike'] >= S0 / 1.3))]  \n"
   ]
  },
  {
   "cell_type": "code",
   "execution_count": 26,
   "metadata": {},
   "outputs": [],
   "source": [
    "security = \"SPX\"\n",
    "rate_curve_type = RateCurveType.RF_US_TREASURY\n",
    "interpolation_type = InterpolationType.SVENSSON\n",
    "volatility_surface_type = VolatilitySurfaceType.SVI\n",
    "day_count_convention = CalendarConvention.ACT_360\n",
    "obs_frequency = ObservationFrequency.ANNUAL\n",
    "market = Market(underlying_name=security,\n",
    "                rate_curve_type=RateCurveType.RF_US_TREASURY,\n",
    "                interpolation_type=InterpolationType.SVENSSON,\n",
    "                volatility_surface_type=VolatilitySurfaceType.SVI,\n",
    "                calendar_convention=CalendarConvention.ACT_360,\n",
    "                obs_frequency=obs_frequency)"
   ]
  },
  {
   "cell_type": "code",
   "execution_count": null,
   "metadata": {},
   "outputs": [],
   "source": [
    "S0 = 216.9800  \n",
    "\n",
    "kappa = 2.0   # Mean reversion rate\n",
    "theta = 0.05  # Long-term average volatility\n",
    "sigma = 0.1   # Volatility of volatility\n",
    "rho = -0.5    # Correlation coefficient\n",
    "\n",
    "initial_guess = [kappa, theta, sigma,rho]  \n",
    "\n",
    "param_bounds = [\n",
    "        (1, 30.0),    # kappa\n",
    "        (1e-3, 1.0),  # theta\n",
    "        (1e-3, 1.0),  # sigma\n",
    "        (-1.0, 1.0)]  # rho\n",
    " \n",
    "res = calibrate_heston(df_test, S0, market, initial_guess, param_bounds)"
   ]
  },
  {
   "cell_type": "code",
   "execution_count": null,
   "metadata": {},
   "outputs": [
    {
     "name": "stdout",
     "output_type": "stream",
     "text": [
      "Calibrated parameters:\n",
      "kappa: 8.1471, theta: 0.0736, sigma: 0.3905, rho: -0.1707\n"
     ]
    }
   ],
   "source": [
    "kappa, theta, volvol,rho = res.x\n",
    "print(\"Calibrated parameters:\")\n",
    "print(f\"kappa: {kappa:.4f}, theta: {theta:.4f}, sigma: {volvol:.4f}, rho: {rho:.4f}\")"
   ]
  },
  {
   "cell_type": "code",
   "execution_count": null,
   "metadata": {},
   "outputs": [
    {
     "data": {
      "application/vnd.plotly.v1+json": {
       "config": {
        "plotlyServerURL": "https://plot.ly"
       },
       "data": [
        {
         "mode": "markers",
         "name": "Prix Marché",
         "type": "scatter",
         "x": [
          170,
          175,
          180,
          185,
          190,
          195,
          200,
          210,
          220,
          230,
          240,
          250,
          260,
          270,
          280,
          290,
          300,
          310,
          320,
          330,
          340,
          350,
          360,
          370
         ],
         "y": [
          59.45,
          55.5,
          51.8,
          47.95,
          44.45,
          41.35,
          38.1,
          31.55,
          26.3,
          21.5,
          17.15,
          13.45,
          10.35,
          7.9,
          5.85,
          4.35,
          3.2,
          2.2,
          1.63,
          1.27,
          0.85,
          0.65,
          0.61,
          0.5
         ]
        },
        {
         "mode": "lines",
         "name": "Prix Modèle",
         "type": "scatter",
         "x": [
          170,
          175,
          180,
          185,
          190,
          195,
          200,
          210,
          220,
          230,
          240,
          250,
          260,
          270,
          280,
          290,
          300,
          310,
          320,
          330,
          340,
          350,
          360,
          370
         ],
         "y": [
          54.995428662679075,
          51.23326169022137,
          47.5846699887022,
          44.05248951090262,
          40.70908009937214,
          37.55403406804173,
          34.51862858098294,
          28.973627822592142,
          24.073721861556148,
          19.813273847029404,
          16.144510710242802,
          13.02785528799987,
          10.40488690180122,
          8.221314276334049,
          6.388897368239832,
          4.893992825177008,
          3.6585400558302723,
          2.632432119177409,
          1.787995082446443,
          1.0829646881213009,
          0.48074197702336363,
          -0.03880774458487224,
          -0.49827323461950357,
          -0.9088726878971443
         ]
        }
       ],
       "layout": {
        "height": 500,
        "legend": {
         "x": 0.05,
         "y": 0.95
        },
        "template": {
         "data": {
          "bar": [
           {
            "error_x": {
             "color": "#2a3f5f"
            },
            "error_y": {
             "color": "#2a3f5f"
            },
            "marker": {
             "line": {
              "color": "white",
              "width": 0.5
             },
             "pattern": {
              "fillmode": "overlay",
              "size": 10,
              "solidity": 0.2
             }
            },
            "type": "bar"
           }
          ],
          "barpolar": [
           {
            "marker": {
             "line": {
              "color": "white",
              "width": 0.5
             },
             "pattern": {
              "fillmode": "overlay",
              "size": 10,
              "solidity": 0.2
             }
            },
            "type": "barpolar"
           }
          ],
          "carpet": [
           {
            "aaxis": {
             "endlinecolor": "#2a3f5f",
             "gridcolor": "#C8D4E3",
             "linecolor": "#C8D4E3",
             "minorgridcolor": "#C8D4E3",
             "startlinecolor": "#2a3f5f"
            },
            "baxis": {
             "endlinecolor": "#2a3f5f",
             "gridcolor": "#C8D4E3",
             "linecolor": "#C8D4E3",
             "minorgridcolor": "#C8D4E3",
             "startlinecolor": "#2a3f5f"
            },
            "type": "carpet"
           }
          ],
          "choropleth": [
           {
            "colorbar": {
             "outlinewidth": 0,
             "ticks": ""
            },
            "type": "choropleth"
           }
          ],
          "contour": [
           {
            "colorbar": {
             "outlinewidth": 0,
             "ticks": ""
            },
            "colorscale": [
             [
              0,
              "#0d0887"
             ],
             [
              0.1111111111111111,
              "#46039f"
             ],
             [
              0.2222222222222222,
              "#7201a8"
             ],
             [
              0.3333333333333333,
              "#9c179e"
             ],
             [
              0.4444444444444444,
              "#bd3786"
             ],
             [
              0.5555555555555556,
              "#d8576b"
             ],
             [
              0.6666666666666666,
              "#ed7953"
             ],
             [
              0.7777777777777778,
              "#fb9f3a"
             ],
             [
              0.8888888888888888,
              "#fdca26"
             ],
             [
              1,
              "#f0f921"
             ]
            ],
            "type": "contour"
           }
          ],
          "contourcarpet": [
           {
            "colorbar": {
             "outlinewidth": 0,
             "ticks": ""
            },
            "type": "contourcarpet"
           }
          ],
          "heatmap": [
           {
            "colorbar": {
             "outlinewidth": 0,
             "ticks": ""
            },
            "colorscale": [
             [
              0,
              "#0d0887"
             ],
             [
              0.1111111111111111,
              "#46039f"
             ],
             [
              0.2222222222222222,
              "#7201a8"
             ],
             [
              0.3333333333333333,
              "#9c179e"
             ],
             [
              0.4444444444444444,
              "#bd3786"
             ],
             [
              0.5555555555555556,
              "#d8576b"
             ],
             [
              0.6666666666666666,
              "#ed7953"
             ],
             [
              0.7777777777777778,
              "#fb9f3a"
             ],
             [
              0.8888888888888888,
              "#fdca26"
             ],
             [
              1,
              "#f0f921"
             ]
            ],
            "type": "heatmap"
           }
          ],
          "heatmapgl": [
           {
            "colorbar": {
             "outlinewidth": 0,
             "ticks": ""
            },
            "colorscale": [
             [
              0,
              "#0d0887"
             ],
             [
              0.1111111111111111,
              "#46039f"
             ],
             [
              0.2222222222222222,
              "#7201a8"
             ],
             [
              0.3333333333333333,
              "#9c179e"
             ],
             [
              0.4444444444444444,
              "#bd3786"
             ],
             [
              0.5555555555555556,
              "#d8576b"
             ],
             [
              0.6666666666666666,
              "#ed7953"
             ],
             [
              0.7777777777777778,
              "#fb9f3a"
             ],
             [
              0.8888888888888888,
              "#fdca26"
             ],
             [
              1,
              "#f0f921"
             ]
            ],
            "type": "heatmapgl"
           }
          ],
          "histogram": [
           {
            "marker": {
             "pattern": {
              "fillmode": "overlay",
              "size": 10,
              "solidity": 0.2
             }
            },
            "type": "histogram"
           }
          ],
          "histogram2d": [
           {
            "colorbar": {
             "outlinewidth": 0,
             "ticks": ""
            },
            "colorscale": [
             [
              0,
              "#0d0887"
             ],
             [
              0.1111111111111111,
              "#46039f"
             ],
             [
              0.2222222222222222,
              "#7201a8"
             ],
             [
              0.3333333333333333,
              "#9c179e"
             ],
             [
              0.4444444444444444,
              "#bd3786"
             ],
             [
              0.5555555555555556,
              "#d8576b"
             ],
             [
              0.6666666666666666,
              "#ed7953"
             ],
             [
              0.7777777777777778,
              "#fb9f3a"
             ],
             [
              0.8888888888888888,
              "#fdca26"
             ],
             [
              1,
              "#f0f921"
             ]
            ],
            "type": "histogram2d"
           }
          ],
          "histogram2dcontour": [
           {
            "colorbar": {
             "outlinewidth": 0,
             "ticks": ""
            },
            "colorscale": [
             [
              0,
              "#0d0887"
             ],
             [
              0.1111111111111111,
              "#46039f"
             ],
             [
              0.2222222222222222,
              "#7201a8"
             ],
             [
              0.3333333333333333,
              "#9c179e"
             ],
             [
              0.4444444444444444,
              "#bd3786"
             ],
             [
              0.5555555555555556,
              "#d8576b"
             ],
             [
              0.6666666666666666,
              "#ed7953"
             ],
             [
              0.7777777777777778,
              "#fb9f3a"
             ],
             [
              0.8888888888888888,
              "#fdca26"
             ],
             [
              1,
              "#f0f921"
             ]
            ],
            "type": "histogram2dcontour"
           }
          ],
          "mesh3d": [
           {
            "colorbar": {
             "outlinewidth": 0,
             "ticks": ""
            },
            "type": "mesh3d"
           }
          ],
          "parcoords": [
           {
            "line": {
             "colorbar": {
              "outlinewidth": 0,
              "ticks": ""
             }
            },
            "type": "parcoords"
           }
          ],
          "pie": [
           {
            "automargin": true,
            "type": "pie"
           }
          ],
          "scatter": [
           {
            "fillpattern": {
             "fillmode": "overlay",
             "size": 10,
             "solidity": 0.2
            },
            "type": "scatter"
           }
          ],
          "scatter3d": [
           {
            "line": {
             "colorbar": {
              "outlinewidth": 0,
              "ticks": ""
             }
            },
            "marker": {
             "colorbar": {
              "outlinewidth": 0,
              "ticks": ""
             }
            },
            "type": "scatter3d"
           }
          ],
          "scattercarpet": [
           {
            "marker": {
             "colorbar": {
              "outlinewidth": 0,
              "ticks": ""
             }
            },
            "type": "scattercarpet"
           }
          ],
          "scattergeo": [
           {
            "marker": {
             "colorbar": {
              "outlinewidth": 0,
              "ticks": ""
             }
            },
            "type": "scattergeo"
           }
          ],
          "scattergl": [
           {
            "marker": {
             "colorbar": {
              "outlinewidth": 0,
              "ticks": ""
             }
            },
            "type": "scattergl"
           }
          ],
          "scattermapbox": [
           {
            "marker": {
             "colorbar": {
              "outlinewidth": 0,
              "ticks": ""
             }
            },
            "type": "scattermapbox"
           }
          ],
          "scatterpolar": [
           {
            "marker": {
             "colorbar": {
              "outlinewidth": 0,
              "ticks": ""
             }
            },
            "type": "scatterpolar"
           }
          ],
          "scatterpolargl": [
           {
            "marker": {
             "colorbar": {
              "outlinewidth": 0,
              "ticks": ""
             }
            },
            "type": "scatterpolargl"
           }
          ],
          "scatterternary": [
           {
            "marker": {
             "colorbar": {
              "outlinewidth": 0,
              "ticks": ""
             }
            },
            "type": "scatterternary"
           }
          ],
          "surface": [
           {
            "colorbar": {
             "outlinewidth": 0,
             "ticks": ""
            },
            "colorscale": [
             [
              0,
              "#0d0887"
             ],
             [
              0.1111111111111111,
              "#46039f"
             ],
             [
              0.2222222222222222,
              "#7201a8"
             ],
             [
              0.3333333333333333,
              "#9c179e"
             ],
             [
              0.4444444444444444,
              "#bd3786"
             ],
             [
              0.5555555555555556,
              "#d8576b"
             ],
             [
              0.6666666666666666,
              "#ed7953"
             ],
             [
              0.7777777777777778,
              "#fb9f3a"
             ],
             [
              0.8888888888888888,
              "#fdca26"
             ],
             [
              1,
              "#f0f921"
             ]
            ],
            "type": "surface"
           }
          ],
          "table": [
           {
            "cells": {
             "fill": {
              "color": "#EBF0F8"
             },
             "line": {
              "color": "white"
             }
            },
            "header": {
             "fill": {
              "color": "#C8D4E3"
             },
             "line": {
              "color": "white"
             }
            },
            "type": "table"
           }
          ]
         },
         "layout": {
          "annotationdefaults": {
           "arrowcolor": "#2a3f5f",
           "arrowhead": 0,
           "arrowwidth": 1
          },
          "autotypenumbers": "strict",
          "coloraxis": {
           "colorbar": {
            "outlinewidth": 0,
            "ticks": ""
           }
          },
          "colorscale": {
           "diverging": [
            [
             0,
             "#8e0152"
            ],
            [
             0.1,
             "#c51b7d"
            ],
            [
             0.2,
             "#de77ae"
            ],
            [
             0.3,
             "#f1b6da"
            ],
            [
             0.4,
             "#fde0ef"
            ],
            [
             0.5,
             "#f7f7f7"
            ],
            [
             0.6,
             "#e6f5d0"
            ],
            [
             0.7,
             "#b8e186"
            ],
            [
             0.8,
             "#7fbc41"
            ],
            [
             0.9,
             "#4d9221"
            ],
            [
             1,
             "#276419"
            ]
           ],
           "sequential": [
            [
             0,
             "#0d0887"
            ],
            [
             0.1111111111111111,
             "#46039f"
            ],
            [
             0.2222222222222222,
             "#7201a8"
            ],
            [
             0.3333333333333333,
             "#9c179e"
            ],
            [
             0.4444444444444444,
             "#bd3786"
            ],
            [
             0.5555555555555556,
             "#d8576b"
            ],
            [
             0.6666666666666666,
             "#ed7953"
            ],
            [
             0.7777777777777778,
             "#fb9f3a"
            ],
            [
             0.8888888888888888,
             "#fdca26"
            ],
            [
             1,
             "#f0f921"
            ]
           ],
           "sequentialminus": [
            [
             0,
             "#0d0887"
            ],
            [
             0.1111111111111111,
             "#46039f"
            ],
            [
             0.2222222222222222,
             "#7201a8"
            ],
            [
             0.3333333333333333,
             "#9c179e"
            ],
            [
             0.4444444444444444,
             "#bd3786"
            ],
            [
             0.5555555555555556,
             "#d8576b"
            ],
            [
             0.6666666666666666,
             "#ed7953"
            ],
            [
             0.7777777777777778,
             "#fb9f3a"
            ],
            [
             0.8888888888888888,
             "#fdca26"
            ],
            [
             1,
             "#f0f921"
            ]
           ]
          },
          "colorway": [
           "#636efa",
           "#EF553B",
           "#00cc96",
           "#ab63fa",
           "#FFA15A",
           "#19d3f3",
           "#FF6692",
           "#B6E880",
           "#FF97FF",
           "#FECB52"
          ],
          "font": {
           "color": "#2a3f5f"
          },
          "geo": {
           "bgcolor": "white",
           "lakecolor": "white",
           "landcolor": "white",
           "showlakes": true,
           "showland": true,
           "subunitcolor": "#C8D4E3"
          },
          "hoverlabel": {
           "align": "left"
          },
          "hovermode": "closest",
          "mapbox": {
           "style": "light"
          },
          "paper_bgcolor": "white",
          "plot_bgcolor": "white",
          "polar": {
           "angularaxis": {
            "gridcolor": "#EBF0F8",
            "linecolor": "#EBF0F8",
            "ticks": ""
           },
           "bgcolor": "white",
           "radialaxis": {
            "gridcolor": "#EBF0F8",
            "linecolor": "#EBF0F8",
            "ticks": ""
           }
          },
          "scene": {
           "xaxis": {
            "backgroundcolor": "white",
            "gridcolor": "#DFE8F3",
            "gridwidth": 2,
            "linecolor": "#EBF0F8",
            "showbackground": true,
            "ticks": "",
            "zerolinecolor": "#EBF0F8"
           },
           "yaxis": {
            "backgroundcolor": "white",
            "gridcolor": "#DFE8F3",
            "gridwidth": 2,
            "linecolor": "#EBF0F8",
            "showbackground": true,
            "ticks": "",
            "zerolinecolor": "#EBF0F8"
           },
           "zaxis": {
            "backgroundcolor": "white",
            "gridcolor": "#DFE8F3",
            "gridwidth": 2,
            "linecolor": "#EBF0F8",
            "showbackground": true,
            "ticks": "",
            "zerolinecolor": "#EBF0F8"
           }
          },
          "shapedefaults": {
           "line": {
            "color": "#2a3f5f"
           }
          },
          "ternary": {
           "aaxis": {
            "gridcolor": "#DFE8F3",
            "linecolor": "#A2B1C6",
            "ticks": ""
           },
           "baxis": {
            "gridcolor": "#DFE8F3",
            "linecolor": "#A2B1C6",
            "ticks": ""
           },
           "bgcolor": "white",
           "caxis": {
            "gridcolor": "#DFE8F3",
            "linecolor": "#A2B1C6",
            "ticks": ""
           }
          },
          "title": {
           "x": 0.05
          },
          "xaxis": {
           "automargin": true,
           "gridcolor": "#EBF0F8",
           "linecolor": "#EBF0F8",
           "ticks": "",
           "title": {
            "standoff": 15
           },
           "zerolinecolor": "#EBF0F8",
           "zerolinewidth": 2
          },
          "yaxis": {
           "automargin": true,
           "gridcolor": "#EBF0F8",
           "linecolor": "#EBF0F8",
           "ticks": "",
           "title": {
            "standoff": 15
           },
           "zerolinecolor": "#EBF0F8",
           "zerolinewidth": 2
          }
         }
        },
        "title": {
         "text": "Comparaison des prix - Maturité ≈ 1.022 ans"
        },
        "width": 800,
        "xaxis": {
         "title": {
          "text": "Strike"
         }
        },
        "yaxis": {
         "title": {
          "text": "Prix de l’option"
         }
        }
       }
      }
     },
     "metadata": {},
     "output_type": "display_data"
    },
    {
     "data": {
      "application/vnd.plotly.v1+json": {
       "config": {
        "plotlyServerURL": "https://plot.ly"
       },
       "data": [
        {
         "mode": "markers",
         "name": "Prix Marché",
         "type": "scatter",
         "x": [
          170,
          175,
          180,
          185,
          190,
          195,
          200,
          205,
          210,
          215,
          220,
          225,
          230,
          235,
          240,
          245,
          250,
          255,
          260,
          265,
          270,
          275,
          280,
          285,
          290,
          300,
          310,
          320,
          330,
          340,
          350,
          360,
          370,
          380,
          390
         ],
         "y": [
          61.85,
          57.75,
          54.1,
          50.65,
          47.95,
          44.55,
          41.4,
          38.3,
          35.4,
          32.5,
          29.9,
          27.5,
          24.35,
          22.95,
          19.85,
          18.8,
          16.9,
          15.3,
          13.6,
          12.2,
          10.9,
          9.65,
          8.6,
          7.6,
          6.7,
          5.2,
          4,
          3.15,
          2.43,
          1.89,
          1.48,
          1.17,
          0.88,
          0.69,
          0.65
         ]
        },
        {
         "mode": "lines",
         "name": "Prix Modèle",
         "type": "scatter",
         "x": [
          170,
          175,
          180,
          185,
          190,
          195,
          200,
          205,
          210,
          215,
          220,
          225,
          230,
          235,
          240,
          245,
          250,
          255,
          260,
          265,
          270,
          275,
          280,
          285,
          290,
          300,
          310,
          320,
          330,
          340,
          350,
          360,
          370,
          380,
          390
         ],
         "y": [
          57.09859033784203,
          53.4488129194892,
          49.94689561916907,
          46.59454540574427,
          43.41748172781351,
          40.33629500864117,
          37.415872038835744,
          34.644877239928235,
          32.023100165419606,
          29.543368112284647,
          27.21291478293041,
          25.034313389140813,
          22.93504863208631,
          21.05690816246999,
          19.225439051923164,
          17.596108349504878,
          16.043501115108587,
          14.614474978292954,
          13.270273546232115,
          12.039704325985944,
          10.900693325442063,
          9.85170220891844,
          8.879452834513003,
          7.985618972002477,
          7.1625547197829675,
          5.707239664281516,
          4.4725473393038655,
          3.4291810661000426,
          2.5328694080611385,
          1.7621310104354109,
          1.0945652483206842,
          0.5086447077771936,
          -0.012140833197079814,
          -0.4798993243273202,
          -0.911380044652887
         ]
        }
       ],
       "layout": {
        "height": 500,
        "legend": {
         "x": 0.05,
         "y": 0.95
        },
        "template": {
         "data": {
          "bar": [
           {
            "error_x": {
             "color": "#2a3f5f"
            },
            "error_y": {
             "color": "#2a3f5f"
            },
            "marker": {
             "line": {
              "color": "white",
              "width": 0.5
             },
             "pattern": {
              "fillmode": "overlay",
              "size": 10,
              "solidity": 0.2
             }
            },
            "type": "bar"
           }
          ],
          "barpolar": [
           {
            "marker": {
             "line": {
              "color": "white",
              "width": 0.5
             },
             "pattern": {
              "fillmode": "overlay",
              "size": 10,
              "solidity": 0.2
             }
            },
            "type": "barpolar"
           }
          ],
          "carpet": [
           {
            "aaxis": {
             "endlinecolor": "#2a3f5f",
             "gridcolor": "#C8D4E3",
             "linecolor": "#C8D4E3",
             "minorgridcolor": "#C8D4E3",
             "startlinecolor": "#2a3f5f"
            },
            "baxis": {
             "endlinecolor": "#2a3f5f",
             "gridcolor": "#C8D4E3",
             "linecolor": "#C8D4E3",
             "minorgridcolor": "#C8D4E3",
             "startlinecolor": "#2a3f5f"
            },
            "type": "carpet"
           }
          ],
          "choropleth": [
           {
            "colorbar": {
             "outlinewidth": 0,
             "ticks": ""
            },
            "type": "choropleth"
           }
          ],
          "contour": [
           {
            "colorbar": {
             "outlinewidth": 0,
             "ticks": ""
            },
            "colorscale": [
             [
              0,
              "#0d0887"
             ],
             [
              0.1111111111111111,
              "#46039f"
             ],
             [
              0.2222222222222222,
              "#7201a8"
             ],
             [
              0.3333333333333333,
              "#9c179e"
             ],
             [
              0.4444444444444444,
              "#bd3786"
             ],
             [
              0.5555555555555556,
              "#d8576b"
             ],
             [
              0.6666666666666666,
              "#ed7953"
             ],
             [
              0.7777777777777778,
              "#fb9f3a"
             ],
             [
              0.8888888888888888,
              "#fdca26"
             ],
             [
              1,
              "#f0f921"
             ]
            ],
            "type": "contour"
           }
          ],
          "contourcarpet": [
           {
            "colorbar": {
             "outlinewidth": 0,
             "ticks": ""
            },
            "type": "contourcarpet"
           }
          ],
          "heatmap": [
           {
            "colorbar": {
             "outlinewidth": 0,
             "ticks": ""
            },
            "colorscale": [
             [
              0,
              "#0d0887"
             ],
             [
              0.1111111111111111,
              "#46039f"
             ],
             [
              0.2222222222222222,
              "#7201a8"
             ],
             [
              0.3333333333333333,
              "#9c179e"
             ],
             [
              0.4444444444444444,
              "#bd3786"
             ],
             [
              0.5555555555555556,
              "#d8576b"
             ],
             [
              0.6666666666666666,
              "#ed7953"
             ],
             [
              0.7777777777777778,
              "#fb9f3a"
             ],
             [
              0.8888888888888888,
              "#fdca26"
             ],
             [
              1,
              "#f0f921"
             ]
            ],
            "type": "heatmap"
           }
          ],
          "heatmapgl": [
           {
            "colorbar": {
             "outlinewidth": 0,
             "ticks": ""
            },
            "colorscale": [
             [
              0,
              "#0d0887"
             ],
             [
              0.1111111111111111,
              "#46039f"
             ],
             [
              0.2222222222222222,
              "#7201a8"
             ],
             [
              0.3333333333333333,
              "#9c179e"
             ],
             [
              0.4444444444444444,
              "#bd3786"
             ],
             [
              0.5555555555555556,
              "#d8576b"
             ],
             [
              0.6666666666666666,
              "#ed7953"
             ],
             [
              0.7777777777777778,
              "#fb9f3a"
             ],
             [
              0.8888888888888888,
              "#fdca26"
             ],
             [
              1,
              "#f0f921"
             ]
            ],
            "type": "heatmapgl"
           }
          ],
          "histogram": [
           {
            "marker": {
             "pattern": {
              "fillmode": "overlay",
              "size": 10,
              "solidity": 0.2
             }
            },
            "type": "histogram"
           }
          ],
          "histogram2d": [
           {
            "colorbar": {
             "outlinewidth": 0,
             "ticks": ""
            },
            "colorscale": [
             [
              0,
              "#0d0887"
             ],
             [
              0.1111111111111111,
              "#46039f"
             ],
             [
              0.2222222222222222,
              "#7201a8"
             ],
             [
              0.3333333333333333,
              "#9c179e"
             ],
             [
              0.4444444444444444,
              "#bd3786"
             ],
             [
              0.5555555555555556,
              "#d8576b"
             ],
             [
              0.6666666666666666,
              "#ed7953"
             ],
             [
              0.7777777777777778,
              "#fb9f3a"
             ],
             [
              0.8888888888888888,
              "#fdca26"
             ],
             [
              1,
              "#f0f921"
             ]
            ],
            "type": "histogram2d"
           }
          ],
          "histogram2dcontour": [
           {
            "colorbar": {
             "outlinewidth": 0,
             "ticks": ""
            },
            "colorscale": [
             [
              0,
              "#0d0887"
             ],
             [
              0.1111111111111111,
              "#46039f"
             ],
             [
              0.2222222222222222,
              "#7201a8"
             ],
             [
              0.3333333333333333,
              "#9c179e"
             ],
             [
              0.4444444444444444,
              "#bd3786"
             ],
             [
              0.5555555555555556,
              "#d8576b"
             ],
             [
              0.6666666666666666,
              "#ed7953"
             ],
             [
              0.7777777777777778,
              "#fb9f3a"
             ],
             [
              0.8888888888888888,
              "#fdca26"
             ],
             [
              1,
              "#f0f921"
             ]
            ],
            "type": "histogram2dcontour"
           }
          ],
          "mesh3d": [
           {
            "colorbar": {
             "outlinewidth": 0,
             "ticks": ""
            },
            "type": "mesh3d"
           }
          ],
          "parcoords": [
           {
            "line": {
             "colorbar": {
              "outlinewidth": 0,
              "ticks": ""
             }
            },
            "type": "parcoords"
           }
          ],
          "pie": [
           {
            "automargin": true,
            "type": "pie"
           }
          ],
          "scatter": [
           {
            "fillpattern": {
             "fillmode": "overlay",
             "size": 10,
             "solidity": 0.2
            },
            "type": "scatter"
           }
          ],
          "scatter3d": [
           {
            "line": {
             "colorbar": {
              "outlinewidth": 0,
              "ticks": ""
             }
            },
            "marker": {
             "colorbar": {
              "outlinewidth": 0,
              "ticks": ""
             }
            },
            "type": "scatter3d"
           }
          ],
          "scattercarpet": [
           {
            "marker": {
             "colorbar": {
              "outlinewidth": 0,
              "ticks": ""
             }
            },
            "type": "scattercarpet"
           }
          ],
          "scattergeo": [
           {
            "marker": {
             "colorbar": {
              "outlinewidth": 0,
              "ticks": ""
             }
            },
            "type": "scattergeo"
           }
          ],
          "scattergl": [
           {
            "marker": {
             "colorbar": {
              "outlinewidth": 0,
              "ticks": ""
             }
            },
            "type": "scattergl"
           }
          ],
          "scattermapbox": [
           {
            "marker": {
             "colorbar": {
              "outlinewidth": 0,
              "ticks": ""
             }
            },
            "type": "scattermapbox"
           }
          ],
          "scatterpolar": [
           {
            "marker": {
             "colorbar": {
              "outlinewidth": 0,
              "ticks": ""
             }
            },
            "type": "scatterpolar"
           }
          ],
          "scatterpolargl": [
           {
            "marker": {
             "colorbar": {
              "outlinewidth": 0,
              "ticks": ""
             }
            },
            "type": "scatterpolargl"
           }
          ],
          "scatterternary": [
           {
            "marker": {
             "colorbar": {
              "outlinewidth": 0,
              "ticks": ""
             }
            },
            "type": "scatterternary"
           }
          ],
          "surface": [
           {
            "colorbar": {
             "outlinewidth": 0,
             "ticks": ""
            },
            "colorscale": [
             [
              0,
              "#0d0887"
             ],
             [
              0.1111111111111111,
              "#46039f"
             ],
             [
              0.2222222222222222,
              "#7201a8"
             ],
             [
              0.3333333333333333,
              "#9c179e"
             ],
             [
              0.4444444444444444,
              "#bd3786"
             ],
             [
              0.5555555555555556,
              "#d8576b"
             ],
             [
              0.6666666666666666,
              "#ed7953"
             ],
             [
              0.7777777777777778,
              "#fb9f3a"
             ],
             [
              0.8888888888888888,
              "#fdca26"
             ],
             [
              1,
              "#f0f921"
             ]
            ],
            "type": "surface"
           }
          ],
          "table": [
           {
            "cells": {
             "fill": {
              "color": "#EBF0F8"
             },
             "line": {
              "color": "white"
             }
            },
            "header": {
             "fill": {
              "color": "#C8D4E3"
             },
             "line": {
              "color": "white"
             }
            },
            "type": "table"
           }
          ]
         },
         "layout": {
          "annotationdefaults": {
           "arrowcolor": "#2a3f5f",
           "arrowhead": 0,
           "arrowwidth": 1
          },
          "autotypenumbers": "strict",
          "coloraxis": {
           "colorbar": {
            "outlinewidth": 0,
            "ticks": ""
           }
          },
          "colorscale": {
           "diverging": [
            [
             0,
             "#8e0152"
            ],
            [
             0.1,
             "#c51b7d"
            ],
            [
             0.2,
             "#de77ae"
            ],
            [
             0.3,
             "#f1b6da"
            ],
            [
             0.4,
             "#fde0ef"
            ],
            [
             0.5,
             "#f7f7f7"
            ],
            [
             0.6,
             "#e6f5d0"
            ],
            [
             0.7,
             "#b8e186"
            ],
            [
             0.8,
             "#7fbc41"
            ],
            [
             0.9,
             "#4d9221"
            ],
            [
             1,
             "#276419"
            ]
           ],
           "sequential": [
            [
             0,
             "#0d0887"
            ],
            [
             0.1111111111111111,
             "#46039f"
            ],
            [
             0.2222222222222222,
             "#7201a8"
            ],
            [
             0.3333333333333333,
             "#9c179e"
            ],
            [
             0.4444444444444444,
             "#bd3786"
            ],
            [
             0.5555555555555556,
             "#d8576b"
            ],
            [
             0.6666666666666666,
             "#ed7953"
            ],
            [
             0.7777777777777778,
             "#fb9f3a"
            ],
            [
             0.8888888888888888,
             "#fdca26"
            ],
            [
             1,
             "#f0f921"
            ]
           ],
           "sequentialminus": [
            [
             0,
             "#0d0887"
            ],
            [
             0.1111111111111111,
             "#46039f"
            ],
            [
             0.2222222222222222,
             "#7201a8"
            ],
            [
             0.3333333333333333,
             "#9c179e"
            ],
            [
             0.4444444444444444,
             "#bd3786"
            ],
            [
             0.5555555555555556,
             "#d8576b"
            ],
            [
             0.6666666666666666,
             "#ed7953"
            ],
            [
             0.7777777777777778,
             "#fb9f3a"
            ],
            [
             0.8888888888888888,
             "#fdca26"
            ],
            [
             1,
             "#f0f921"
            ]
           ]
          },
          "colorway": [
           "#636efa",
           "#EF553B",
           "#00cc96",
           "#ab63fa",
           "#FFA15A",
           "#19d3f3",
           "#FF6692",
           "#B6E880",
           "#FF97FF",
           "#FECB52"
          ],
          "font": {
           "color": "#2a3f5f"
          },
          "geo": {
           "bgcolor": "white",
           "lakecolor": "white",
           "landcolor": "white",
           "showlakes": true,
           "showland": true,
           "subunitcolor": "#C8D4E3"
          },
          "hoverlabel": {
           "align": "left"
          },
          "hovermode": "closest",
          "mapbox": {
           "style": "light"
          },
          "paper_bgcolor": "white",
          "plot_bgcolor": "white",
          "polar": {
           "angularaxis": {
            "gridcolor": "#EBF0F8",
            "linecolor": "#EBF0F8",
            "ticks": ""
           },
           "bgcolor": "white",
           "radialaxis": {
            "gridcolor": "#EBF0F8",
            "linecolor": "#EBF0F8",
            "ticks": ""
           }
          },
          "scene": {
           "xaxis": {
            "backgroundcolor": "white",
            "gridcolor": "#DFE8F3",
            "gridwidth": 2,
            "linecolor": "#EBF0F8",
            "showbackground": true,
            "ticks": "",
            "zerolinecolor": "#EBF0F8"
           },
           "yaxis": {
            "backgroundcolor": "white",
            "gridcolor": "#DFE8F3",
            "gridwidth": 2,
            "linecolor": "#EBF0F8",
            "showbackground": true,
            "ticks": "",
            "zerolinecolor": "#EBF0F8"
           },
           "zaxis": {
            "backgroundcolor": "white",
            "gridcolor": "#DFE8F3",
            "gridwidth": 2,
            "linecolor": "#EBF0F8",
            "showbackground": true,
            "ticks": "",
            "zerolinecolor": "#EBF0F8"
           }
          },
          "shapedefaults": {
           "line": {
            "color": "#2a3f5f"
           }
          },
          "ternary": {
           "aaxis": {
            "gridcolor": "#DFE8F3",
            "linecolor": "#A2B1C6",
            "ticks": ""
           },
           "baxis": {
            "gridcolor": "#DFE8F3",
            "linecolor": "#A2B1C6",
            "ticks": ""
           },
           "bgcolor": "white",
           "caxis": {
            "gridcolor": "#DFE8F3",
            "linecolor": "#A2B1C6",
            "ticks": ""
           }
          },
          "title": {
           "x": 0.05
          },
          "xaxis": {
           "automargin": true,
           "gridcolor": "#EBF0F8",
           "linecolor": "#EBF0F8",
           "ticks": "",
           "title": {
            "standoff": 15
           },
           "zerolinecolor": "#EBF0F8",
           "zerolinewidth": 2
          },
          "yaxis": {
           "automargin": true,
           "gridcolor": "#EBF0F8",
           "linecolor": "#EBF0F8",
           "ticks": "",
           "title": {
            "standoff": 15
           },
           "zerolinecolor": "#EBF0F8",
           "zerolinewidth": 2
          }
         }
        },
        "title": {
         "text": "Comparaison des prix - Maturité ≈ 1.268 ans"
        },
        "width": 800,
        "xaxis": {
         "title": {
          "text": "Strike"
         }
        },
        "yaxis": {
         "title": {
          "text": "Prix de l’option"
         }
        }
       }
      }
     },
     "metadata": {},
     "output_type": "display_data"
    },
    {
     "data": {
      "application/vnd.plotly.v1+json": {
       "config": {
        "plotlyServerURL": "https://plot.ly"
       },
       "data": [
        {
         "mode": "markers",
         "name": "Prix Marché",
         "type": "scatter",
         "x": [
          170,
          175,
          180,
          185,
          190,
          195,
          200,
          210,
          220,
          230,
          240,
          250,
          260,
          270,
          280,
          290,
          300,
          310,
          320,
          330,
          340,
          350,
          360,
          370,
          380,
          390,
          400,
          410,
          420,
          430,
          440,
          450
         ],
         "y": [
          66.15,
          63.8,
          60,
          56.55,
          53.85,
          50.55,
          48.05,
          42.1,
          36.15,
          32,
          28.3,
          23.75,
          20,
          17.5,
          14.75,
          12.35,
          10.5,
          8.65,
          7.2,
          5.95,
          4.95,
          4.1,
          3.4,
          2.89,
          2.44,
          2.1,
          1.78,
          1.51,
          1.36,
          1.09,
          0.98,
          0.9
         ]
        },
        {
         "mode": "lines",
         "name": "Prix Modèle",
         "type": "scatter",
         "x": [
          170,
          175,
          180,
          185,
          190,
          195,
          200,
          210,
          220,
          230,
          240,
          250,
          260,
          270,
          280,
          290,
          300,
          310,
          320,
          330,
          340,
          350,
          360,
          370,
          380,
          390,
          400,
          410,
          420,
          430,
          440,
          450
         ],
         "y": [
          62.00563404852268,
          58.68122601538462,
          55.39979738223565,
          52.28779180760068,
          49.255440557553676,
          46.402875643542316,
          43.671804858407235,
          38.532079549250184,
          33.8769406495123,
          29.71184238197965,
          25.93619503552872,
          22.575876240419277,
          19.59660964304272,
          16.984950644196317,
          14.659926278749381,
          12.609724954283095,
          10.810813108598943,
          9.221402958577961,
          7.8244317401791506,
          6.592492749877522,
          5.506758762960693,
          4.5424641526456355,
          3.685238487640845,
          2.9210709110689947,
          2.2328319547200124,
          1.6095461130381352,
          1.0401957684759537,
          0.5159964025562402,
          0.03144544077191824,
          -0.42499473936136667,
          -0.8549339198792012,
          -1.2629839345904514
         ]
        }
       ],
       "layout": {
        "height": 500,
        "legend": {
         "x": 0.05,
         "y": 0.95
        },
        "template": {
         "data": {
          "bar": [
           {
            "error_x": {
             "color": "#2a3f5f"
            },
            "error_y": {
             "color": "#2a3f5f"
            },
            "marker": {
             "line": {
              "color": "white",
              "width": 0.5
             },
             "pattern": {
              "fillmode": "overlay",
              "size": 10,
              "solidity": 0.2
             }
            },
            "type": "bar"
           }
          ],
          "barpolar": [
           {
            "marker": {
             "line": {
              "color": "white",
              "width": 0.5
             },
             "pattern": {
              "fillmode": "overlay",
              "size": 10,
              "solidity": 0.2
             }
            },
            "type": "barpolar"
           }
          ],
          "carpet": [
           {
            "aaxis": {
             "endlinecolor": "#2a3f5f",
             "gridcolor": "#C8D4E3",
             "linecolor": "#C8D4E3",
             "minorgridcolor": "#C8D4E3",
             "startlinecolor": "#2a3f5f"
            },
            "baxis": {
             "endlinecolor": "#2a3f5f",
             "gridcolor": "#C8D4E3",
             "linecolor": "#C8D4E3",
             "minorgridcolor": "#C8D4E3",
             "startlinecolor": "#2a3f5f"
            },
            "type": "carpet"
           }
          ],
          "choropleth": [
           {
            "colorbar": {
             "outlinewidth": 0,
             "ticks": ""
            },
            "type": "choropleth"
           }
          ],
          "contour": [
           {
            "colorbar": {
             "outlinewidth": 0,
             "ticks": ""
            },
            "colorscale": [
             [
              0,
              "#0d0887"
             ],
             [
              0.1111111111111111,
              "#46039f"
             ],
             [
              0.2222222222222222,
              "#7201a8"
             ],
             [
              0.3333333333333333,
              "#9c179e"
             ],
             [
              0.4444444444444444,
              "#bd3786"
             ],
             [
              0.5555555555555556,
              "#d8576b"
             ],
             [
              0.6666666666666666,
              "#ed7953"
             ],
             [
              0.7777777777777778,
              "#fb9f3a"
             ],
             [
              0.8888888888888888,
              "#fdca26"
             ],
             [
              1,
              "#f0f921"
             ]
            ],
            "type": "contour"
           }
          ],
          "contourcarpet": [
           {
            "colorbar": {
             "outlinewidth": 0,
             "ticks": ""
            },
            "type": "contourcarpet"
           }
          ],
          "heatmap": [
           {
            "colorbar": {
             "outlinewidth": 0,
             "ticks": ""
            },
            "colorscale": [
             [
              0,
              "#0d0887"
             ],
             [
              0.1111111111111111,
              "#46039f"
             ],
             [
              0.2222222222222222,
              "#7201a8"
             ],
             [
              0.3333333333333333,
              "#9c179e"
             ],
             [
              0.4444444444444444,
              "#bd3786"
             ],
             [
              0.5555555555555556,
              "#d8576b"
             ],
             [
              0.6666666666666666,
              "#ed7953"
             ],
             [
              0.7777777777777778,
              "#fb9f3a"
             ],
             [
              0.8888888888888888,
              "#fdca26"
             ],
             [
              1,
              "#f0f921"
             ]
            ],
            "type": "heatmap"
           }
          ],
          "heatmapgl": [
           {
            "colorbar": {
             "outlinewidth": 0,
             "ticks": ""
            },
            "colorscale": [
             [
              0,
              "#0d0887"
             ],
             [
              0.1111111111111111,
              "#46039f"
             ],
             [
              0.2222222222222222,
              "#7201a8"
             ],
             [
              0.3333333333333333,
              "#9c179e"
             ],
             [
              0.4444444444444444,
              "#bd3786"
             ],
             [
              0.5555555555555556,
              "#d8576b"
             ],
             [
              0.6666666666666666,
              "#ed7953"
             ],
             [
              0.7777777777777778,
              "#fb9f3a"
             ],
             [
              0.8888888888888888,
              "#fdca26"
             ],
             [
              1,
              "#f0f921"
             ]
            ],
            "type": "heatmapgl"
           }
          ],
          "histogram": [
           {
            "marker": {
             "pattern": {
              "fillmode": "overlay",
              "size": 10,
              "solidity": 0.2
             }
            },
            "type": "histogram"
           }
          ],
          "histogram2d": [
           {
            "colorbar": {
             "outlinewidth": 0,
             "ticks": ""
            },
            "colorscale": [
             [
              0,
              "#0d0887"
             ],
             [
              0.1111111111111111,
              "#46039f"
             ],
             [
              0.2222222222222222,
              "#7201a8"
             ],
             [
              0.3333333333333333,
              "#9c179e"
             ],
             [
              0.4444444444444444,
              "#bd3786"
             ],
             [
              0.5555555555555556,
              "#d8576b"
             ],
             [
              0.6666666666666666,
              "#ed7953"
             ],
             [
              0.7777777777777778,
              "#fb9f3a"
             ],
             [
              0.8888888888888888,
              "#fdca26"
             ],
             [
              1,
              "#f0f921"
             ]
            ],
            "type": "histogram2d"
           }
          ],
          "histogram2dcontour": [
           {
            "colorbar": {
             "outlinewidth": 0,
             "ticks": ""
            },
            "colorscale": [
             [
              0,
              "#0d0887"
             ],
             [
              0.1111111111111111,
              "#46039f"
             ],
             [
              0.2222222222222222,
              "#7201a8"
             ],
             [
              0.3333333333333333,
              "#9c179e"
             ],
             [
              0.4444444444444444,
              "#bd3786"
             ],
             [
              0.5555555555555556,
              "#d8576b"
             ],
             [
              0.6666666666666666,
              "#ed7953"
             ],
             [
              0.7777777777777778,
              "#fb9f3a"
             ],
             [
              0.8888888888888888,
              "#fdca26"
             ],
             [
              1,
              "#f0f921"
             ]
            ],
            "type": "histogram2dcontour"
           }
          ],
          "mesh3d": [
           {
            "colorbar": {
             "outlinewidth": 0,
             "ticks": ""
            },
            "type": "mesh3d"
           }
          ],
          "parcoords": [
           {
            "line": {
             "colorbar": {
              "outlinewidth": 0,
              "ticks": ""
             }
            },
            "type": "parcoords"
           }
          ],
          "pie": [
           {
            "automargin": true,
            "type": "pie"
           }
          ],
          "scatter": [
           {
            "fillpattern": {
             "fillmode": "overlay",
             "size": 10,
             "solidity": 0.2
            },
            "type": "scatter"
           }
          ],
          "scatter3d": [
           {
            "line": {
             "colorbar": {
              "outlinewidth": 0,
              "ticks": ""
             }
            },
            "marker": {
             "colorbar": {
              "outlinewidth": 0,
              "ticks": ""
             }
            },
            "type": "scatter3d"
           }
          ],
          "scattercarpet": [
           {
            "marker": {
             "colorbar": {
              "outlinewidth": 0,
              "ticks": ""
             }
            },
            "type": "scattercarpet"
           }
          ],
          "scattergeo": [
           {
            "marker": {
             "colorbar": {
              "outlinewidth": 0,
              "ticks": ""
             }
            },
            "type": "scattergeo"
           }
          ],
          "scattergl": [
           {
            "marker": {
             "colorbar": {
              "outlinewidth": 0,
              "ticks": ""
             }
            },
            "type": "scattergl"
           }
          ],
          "scattermapbox": [
           {
            "marker": {
             "colorbar": {
              "outlinewidth": 0,
              "ticks": ""
             }
            },
            "type": "scattermapbox"
           }
          ],
          "scatterpolar": [
           {
            "marker": {
             "colorbar": {
              "outlinewidth": 0,
              "ticks": ""
             }
            },
            "type": "scatterpolar"
           }
          ],
          "scatterpolargl": [
           {
            "marker": {
             "colorbar": {
              "outlinewidth": 0,
              "ticks": ""
             }
            },
            "type": "scatterpolargl"
           }
          ],
          "scatterternary": [
           {
            "marker": {
             "colorbar": {
              "outlinewidth": 0,
              "ticks": ""
             }
            },
            "type": "scatterternary"
           }
          ],
          "surface": [
           {
            "colorbar": {
             "outlinewidth": 0,
             "ticks": ""
            },
            "colorscale": [
             [
              0,
              "#0d0887"
             ],
             [
              0.1111111111111111,
              "#46039f"
             ],
             [
              0.2222222222222222,
              "#7201a8"
             ],
             [
              0.3333333333333333,
              "#9c179e"
             ],
             [
              0.4444444444444444,
              "#bd3786"
             ],
             [
              0.5555555555555556,
              "#d8576b"
             ],
             [
              0.6666666666666666,
              "#ed7953"
             ],
             [
              0.7777777777777778,
              "#fb9f3a"
             ],
             [
              0.8888888888888888,
              "#fdca26"
             ],
             [
              1,
              "#f0f921"
             ]
            ],
            "type": "surface"
           }
          ],
          "table": [
           {
            "cells": {
             "fill": {
              "color": "#EBF0F8"
             },
             "line": {
              "color": "white"
             }
            },
            "header": {
             "fill": {
              "color": "#C8D4E3"
             },
             "line": {
              "color": "white"
             }
            },
            "type": "table"
           }
          ]
         },
         "layout": {
          "annotationdefaults": {
           "arrowcolor": "#2a3f5f",
           "arrowhead": 0,
           "arrowwidth": 1
          },
          "autotypenumbers": "strict",
          "coloraxis": {
           "colorbar": {
            "outlinewidth": 0,
            "ticks": ""
           }
          },
          "colorscale": {
           "diverging": [
            [
             0,
             "#8e0152"
            ],
            [
             0.1,
             "#c51b7d"
            ],
            [
             0.2,
             "#de77ae"
            ],
            [
             0.3,
             "#f1b6da"
            ],
            [
             0.4,
             "#fde0ef"
            ],
            [
             0.5,
             "#f7f7f7"
            ],
            [
             0.6,
             "#e6f5d0"
            ],
            [
             0.7,
             "#b8e186"
            ],
            [
             0.8,
             "#7fbc41"
            ],
            [
             0.9,
             "#4d9221"
            ],
            [
             1,
             "#276419"
            ]
           ],
           "sequential": [
            [
             0,
             "#0d0887"
            ],
            [
             0.1111111111111111,
             "#46039f"
            ],
            [
             0.2222222222222222,
             "#7201a8"
            ],
            [
             0.3333333333333333,
             "#9c179e"
            ],
            [
             0.4444444444444444,
             "#bd3786"
            ],
            [
             0.5555555555555556,
             "#d8576b"
            ],
            [
             0.6666666666666666,
             "#ed7953"
            ],
            [
             0.7777777777777778,
             "#fb9f3a"
            ],
            [
             0.8888888888888888,
             "#fdca26"
            ],
            [
             1,
             "#f0f921"
            ]
           ],
           "sequentialminus": [
            [
             0,
             "#0d0887"
            ],
            [
             0.1111111111111111,
             "#46039f"
            ],
            [
             0.2222222222222222,
             "#7201a8"
            ],
            [
             0.3333333333333333,
             "#9c179e"
            ],
            [
             0.4444444444444444,
             "#bd3786"
            ],
            [
             0.5555555555555556,
             "#d8576b"
            ],
            [
             0.6666666666666666,
             "#ed7953"
            ],
            [
             0.7777777777777778,
             "#fb9f3a"
            ],
            [
             0.8888888888888888,
             "#fdca26"
            ],
            [
             1,
             "#f0f921"
            ]
           ]
          },
          "colorway": [
           "#636efa",
           "#EF553B",
           "#00cc96",
           "#ab63fa",
           "#FFA15A",
           "#19d3f3",
           "#FF6692",
           "#B6E880",
           "#FF97FF",
           "#FECB52"
          ],
          "font": {
           "color": "#2a3f5f"
          },
          "geo": {
           "bgcolor": "white",
           "lakecolor": "white",
           "landcolor": "white",
           "showlakes": true,
           "showland": true,
           "subunitcolor": "#C8D4E3"
          },
          "hoverlabel": {
           "align": "left"
          },
          "hovermode": "closest",
          "mapbox": {
           "style": "light"
          },
          "paper_bgcolor": "white",
          "plot_bgcolor": "white",
          "polar": {
           "angularaxis": {
            "gridcolor": "#EBF0F8",
            "linecolor": "#EBF0F8",
            "ticks": ""
           },
           "bgcolor": "white",
           "radialaxis": {
            "gridcolor": "#EBF0F8",
            "linecolor": "#EBF0F8",
            "ticks": ""
           }
          },
          "scene": {
           "xaxis": {
            "backgroundcolor": "white",
            "gridcolor": "#DFE8F3",
            "gridwidth": 2,
            "linecolor": "#EBF0F8",
            "showbackground": true,
            "ticks": "",
            "zerolinecolor": "#EBF0F8"
           },
           "yaxis": {
            "backgroundcolor": "white",
            "gridcolor": "#DFE8F3",
            "gridwidth": 2,
            "linecolor": "#EBF0F8",
            "showbackground": true,
            "ticks": "",
            "zerolinecolor": "#EBF0F8"
           },
           "zaxis": {
            "backgroundcolor": "white",
            "gridcolor": "#DFE8F3",
            "gridwidth": 2,
            "linecolor": "#EBF0F8",
            "showbackground": true,
            "ticks": "",
            "zerolinecolor": "#EBF0F8"
           }
          },
          "shapedefaults": {
           "line": {
            "color": "#2a3f5f"
           }
          },
          "ternary": {
           "aaxis": {
            "gridcolor": "#DFE8F3",
            "linecolor": "#A2B1C6",
            "ticks": ""
           },
           "baxis": {
            "gridcolor": "#DFE8F3",
            "linecolor": "#A2B1C6",
            "ticks": ""
           },
           "bgcolor": "white",
           "caxis": {
            "gridcolor": "#DFE8F3",
            "linecolor": "#A2B1C6",
            "ticks": ""
           }
          },
          "title": {
           "x": 0.05
          },
          "xaxis": {
           "automargin": true,
           "gridcolor": "#EBF0F8",
           "linecolor": "#EBF0F8",
           "ticks": "",
           "title": {
            "standoff": 15
           },
           "zerolinecolor": "#EBF0F8",
           "zerolinewidth": 2
          },
          "yaxis": {
           "automargin": true,
           "gridcolor": "#EBF0F8",
           "linecolor": "#EBF0F8",
           "ticks": "",
           "title": {
            "standoff": 15
           },
           "zerolinecolor": "#EBF0F8",
           "zerolinewidth": 2
          }
         }
        },
        "title": {
         "text": "Comparaison des prix - Maturité ≈ 1.847 ans"
        },
        "width": 800,
        "xaxis": {
         "title": {
          "text": "Strike"
         }
        },
        "yaxis": {
         "title": {
          "text": "Prix de l’option"
         }
        }
       }
      }
     },
     "metadata": {},
     "output_type": "display_data"
    }
   ],
   "source": [
    "\n",
    "\n",
    "kappa = 8.1471\n",
    "theta = 0.0736\n",
    "sigma = 0.3905\n",
    "rho = -0.1707\n",
    "\n",
    "maturities_to_plot = [1.021917808219178, 1.2684931506849315, 1.8465753424657534]\n",
    "\n",
    "for maturity_target in maturities_to_plot:\n",
    "    df_maturity = df_test[np.isclose(df_test['time_to_maturity'], maturity_target, atol=1e-3)]\n",
    "    strikes = df_maturity['strike'].values\n",
    "    maturities = df_maturity['time_to_maturity'].values\n",
    "    market_prices = df_maturity['bid'].values\n",
    "    implied_vols = df_maturity['implied_volatility'].values\n",
    "    v0s = implied_vols**2\n",
    "\n",
    "    model_prices = np.array([\n",
    "        priceHestonMid(S0, k, market.get_rate(t), t, sigma, kappa, theta, v0, rho)\n",
    "        for k, t, v0 in zip(strikes, maturities, v0s)\n",
    "    ])\n",
    "\n",
    "    fig = go.Figure()\n",
    "    fig.add_trace(go.Scatter(x=strikes, y=market_prices, mode='markers', name='Prix Marché'))\n",
    "    fig.add_trace(go.Scatter(x=strikes, y=model_prices, mode='lines', name='Prix Modèle'))\n",
    "    fig.update_layout(\n",
    "        title=f'Comparaison des prix - Maturité ≈ {maturity_target:.3f} ans',\n",
    "        xaxis_title='Strike',\n",
    "        yaxis_title='Prix de l’option',\n",
    "        template='plotly_white',\n",
    "        legend=dict(x=0.05, y=0.95),\n",
    "        width=800,\n",
    "        height=500\n",
    "    )\n",
    "    fig.show()\n",
    "\n"
   ]
  }
 ],
 "metadata": {
  "kernelspec": {
   "display_name": "base",
   "language": "python",
   "name": "python3"
  },
  "language_info": {
   "codemirror_mode": {
    "name": "ipython",
    "version": 3
   },
   "file_extension": ".py",
   "mimetype": "text/x-python",
   "name": "python",
   "nbconvert_exporter": "python",
   "pygments_lexer": "ipython3",
   "version": "3.12.4"
  }
 },
 "nbformat": 4,
 "nbformat_minor": 2
}
